{
 "cells": [
  {
   "cell_type": "code",
   "execution_count": 1,
   "metadata": {
    "collapsed": false
   },
   "outputs": [
    {
     "name": "stderr",
     "output_type": "stream",
     "text": [
      "Using TensorFlow backend.\n"
     ]
    }
   ],
   "source": [
    "from keras.preprocessing.image import ImageDataGenerator\n",
    "from keras.models import Sequential\n",
    "from keras.layers import Convolution2D, MaxPooling2D\n",
    "from keras.layers import Activation, Dropout, Flatten, Dense"
   ]
  },
  {
   "cell_type": "code",
   "execution_count": 2,
   "metadata": {
    "collapsed": true
   },
   "outputs": [],
   "source": [
    "files_data_dir = \"/Users/ravishchawla/workspace/machinelearning/datasets/dogs_vs_cats/organized/\";\n",
    "\n",
    "train_data_dir = \"testing/\";\n",
    "test_data_dir = \"testing/\";\n",
    "\n",
    "cats_dir = \"cats/\";\n",
    "dogs_dir = \"dogs/\";"
   ]
  },
  {
   "cell_type": "code",
   "execution_count": 11,
   "metadata": {
    "collapsed": false
   },
   "outputs": [],
   "source": [
    "filter_size = {\n",
    "    'wc1' : 3,\n",
    "    'wc2' : 3,\n",
    "    'wc3' : 3,\n",
    "}\n",
    "\n",
    "input_layers = {\n",
    "    'wc1' : 3,\n",
    "    'wc2' : 32,\n",
    "    'wc3' : 32,\n",
    "    'fc1' : 64,\n",
    "    'fc2' : 64,\n",
    "    'out' : 1,\n",
    "}\n",
    "\n",
    "input_size = {\n",
    "    'wc1' : (250, 250, 3),\n",
    "    'wc2' : (125, 125, 32),\n",
    "    'wc3' : (63, 63, 32),\n",
    "    'fc1' : (32, 64, 64),\n",
    "}\n",
    "\n",
    "num_filters = {\n",
    "    'wc1' : 32,\n",
    "    'wc2' : 32,\n",
    "    'wc3' : 64,\n",
    "    'fc1' : 64,\n",
    "    'fc2' : 1,\n",
    "}\n",
    "\n",
    "strides = {\n",
    "    \n",
    "    'wc1' : 1,\n",
    "    'wc2' : 1,\n",
    "    'wc3' : 1,\n",
    "}\n",
    "\n",
    "activation_type = {\n",
    "    'wc1' : 'relu',\n",
    "}\n",
    "\n",
    "pool_ratio = {\n",
    "    'wc1' : (2, 2),\n",
    "}"
   ]
  },
  {
   "cell_type": "code",
   "execution_count": 9,
   "metadata": {
    "collapsed": false
   },
   "outputs": [],
   "source": [
    "conv1 = Convolution2D(num_filters['wc1'], filter_size['wc1'], filter_size['wc1'], input_shape=input_size['wc1']);\n",
    "\n",
    "act1 = Activation(activation_type['wc1']);\n",
    "\n",
    "pool1 = MaxPooling2D(pool_size=pool_ratio['wc1']);\n",
    "\n",
    "\n",
    "conv2 = Convolution2D(num_filters['wc2'], filter_size['wc2'], filter_size['wc2'], input_shape=input_size['wc2']);\n",
    "\n",
    "act2 = Activation(activation_type['wc2']);\n",
    "\n",
    "pool2 = MaxPooling2D(pool_size=pool_ratio['wc2']);\n",
    "\n",
    "\n",
    "conv3 = Convolution2D(num_filters['wc3'], filter_size['wc3'], filter_size['wc3'], input_shape=input_size['wc3']);\n",
    "\n",
    "act3 = Activation(activation_type['wc3']);\n",
    "\n",
    "pool3 = MaxPooling2D(pool_size=pool_ratio['wc3']);"
   ]
  },
  {
   "cell_type": "code",
   "execution_count": null,
   "metadata": {
    "collapsed": true
   },
   "outputs": [],
   "source": []
  }
 ],
 "metadata": {
  "kernelspec": {
   "display_name": "Python 3",
   "language": "python",
   "name": "python3"
  },
  "language_info": {
   "codemirror_mode": {
    "name": "ipython",
    "version": 3
   },
   "file_extension": ".py",
   "mimetype": "text/x-python",
   "name": "python",
   "nbconvert_exporter": "python",
   "pygments_lexer": "ipython3",
   "version": "3.5.2"
  }
 },
 "nbformat": 4,
 "nbformat_minor": 0
}
