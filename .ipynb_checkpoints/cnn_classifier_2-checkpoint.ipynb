{
 "cells": [
  {
   "cell_type": "markdown",
   "metadata": {},
   "source": [
    "#### CS 8803 BDS Project\n",
    "### Author: RAVISH CHAWLA"
   ]
  },
  {
   "cell_type": "code",
   "execution_count": 44,
   "metadata": {
    "collapsed": true
   },
   "outputs": [],
   "source": [
    "%matplotlib inline\n",
    "\n",
    "import pandas;\n",
    "import cv2;\n",
    "import pickle;\n",
    "import numpy;\n",
    "import os;\n",
    "import os.path;\n",
    "\n",
    "from matplotlib import pyplot;\n",
    "\n",
    "import tensorflow as tf;"
   ]
  },
  {
   "cell_type": "code",
   "execution_count": 45,
   "metadata": {
    "collapsed": true
   },
   "outputs": [],
   "source": [
    "images_dir = \"/Users/ravishchawla/workspace/machinelearning/datasets/dogs_vs_cats/\";\n",
    "train_dir = images_dir + \"train/\";\n",
    "test_dir = images_dir + \"test/\";"
   ]
  },
  {
   "cell_type": "code",
   "execution_count": 46,
   "metadata": {
    "collapsed": false
   },
   "outputs": [
    {
     "name": "stdout",
     "output_type": "stream",
     "text": [
      "dataset loaded\n"
     ]
    }
   ],
   "source": [
    "file_names_p = 'file_names.p';\n",
    "\n",
    "train_file_names = [];\n",
    "test_file_names = [];\n",
    "\n",
    "if os.path.isfile(file_names_p):\n",
    "    train_file_names, test_file_names = pickle.load(open(file_names_p, 'rb'));\n",
    "    train_file_names = train_file_names[0];\n",
    "    test_file_names = test_file_names[0];\n",
    "    print('dataset loaded');\n",
    "else:\n",
    "    for root, folder, file in os.walk(train_dir):\n",
    "        train_file_names.append(file);\n",
    "\n",
    "    for root, folder, file in os.walk(test_dir):\n",
    "        test_file_names.append(file);\n",
    "\n",
    "    pickle.dump((train_file_names, test_file_names), open(file_names_p, 'wb'));"
   ]
  },
  {
   "cell_type": "code",
   "execution_count": 47,
   "metadata": {
    "collapsed": false
   },
   "outputs": [
    {
     "name": "stdout",
     "output_type": "stream",
     "text": [
      "num dogs:  253\n",
      "num cats:  247\n",
      "num dogs:  244\n",
      "num cats:  256\n",
      "500\n",
      "500\n",
      "[250, 250]\n"
     ]
    }
   ],
   "source": [
    "max_size = [250, 250];\n",
    "\n",
    "def load_images_and_labels(files_dir, image_names, size_sample):    \n",
    "    image_set = numpy.random.choice(image_names, size=size_sample);\n",
    "    \n",
    "    loaded_images = [];\n",
    "    labels_list = [];\n",
    "    num_dogs = 0;\n",
    "    num_cats = 0;\n",
    "    \n",
    "    for fname in image_set:\n",
    "        img = cv2.imread(files_dir + fname);\n",
    "        \n",
    "        if 'cat' in fname:\n",
    "            labels_list.append([0,1]);\n",
    "            num_cats = num_cats + 1;\n",
    "        elif 'dog' in fname:\n",
    "            labels_list.append([1,0]);\n",
    "            num_dogs = num_dogs + 1;\n",
    "        else:\n",
    "            labels_list.append([0,0]);\n",
    "\n",
    "        loaded_images.append(img);\n",
    "    \n",
    "    print(\"num dogs: \" , num_dogs);\n",
    "    print(\"num cats: \" , num_cats);\n",
    "    return [loaded_images, labels_list];\n",
    "\n",
    "def process_images(images, border_size):\n",
    "    images_list = [];\n",
    "    print(len(images))\n",
    "    for image_pos in range(0, len(images)):\n",
    "        img = images[image_pos];\n",
    "        #print(\"img \", img.shape);\n",
    "        bet_img= cv2.resize(img,(border_size[0],border_size[1]));\n",
    "        #print(\"bet_img \", bet_img.shape);\n",
    "        #bw_img = cv2.cvtColor(bet_img, cv2.COLOR_BGR2GRAY);\n",
    "        #print(\"bw_img \", bw_img.shape);\n",
    "        flat_image = numpy.reshape(bet_img, [bet_img.shape[0] * bet_img.shape[1], bet_img.shape[2]]);\n",
    "        #print(\"flat_img \", flat_image.shape);\n",
    "        images_list.append(flat_image);\n",
    "       \n",
    "    images_list = numpy.array(images_list);\n",
    "\n",
    "    return images_list;\n",
    "#print(images_with_labels);\n",
    "\n",
    "#Parameters\n",
    "\n",
    "learning_rate = 0.001;\n",
    "training_iters = 20000;\n",
    "batch_size = 128;\n",
    "display_step = 10;\n",
    "\n",
    "num_train_images = 500;\n",
    "num_test_images = 500;\n",
    "\n",
    "train_and_test_set = numpy.random.choice(train_file_names, num_train_images + num_test_images);\n",
    "\n",
    "train_images, train_labels = load_images_and_labels(train_dir, train_and_test_set[:num_train_images], num_train_images);\n",
    "test_images, test_labels = load_images_and_labels(train_dir, train_and_test_set[num_train_images:num_train_images+num_test_images], num_test_images);\n",
    "\n",
    "\n",
    "train_images = process_images(train_images, max_size);\n",
    "test_images = process_images(test_images, max_size);\n",
    "\n",
    "n_input = max_size[0] * max_size[1]; #data input\n",
    "n_classes = 2; #total classes = 10\n",
    "dropout = 0.5; #probability to keep units\n",
    "\n",
    "x = tf.placeholder(tf.float32, [None, n_input, 3]);\n",
    "y = tf.placeholder(tf.float32, [None, n_classes]);\n",
    "keep_prob = tf.placeholder(tf.float32) #dropout\n",
    "\n",
    "print(max_size);\n",
    "\n",
    "#train_images, train_labels = process_images_and_labels(train_dir, train_file_names, 5);\n",
    "#test_images, test_labels = process_images_and_labels(test_dir, test_file_names, 250);"
   ]
  },
  {
   "cell_type": "code",
   "execution_count": 48,
   "metadata": {
    "collapsed": false
   },
   "outputs": [
    {
     "name": "stdout",
     "output_type": "stream",
     "text": [
      "Tensor(\"Reshape_20:0\", shape=(3, 3, 3, 8), dtype=float32)\n",
      "Tensor(\"Reshape_21:0\", shape=(3, 3, 8, 8), dtype=float32)\n"
     ]
    }
   ],
   "source": [
    "x_dir = numpy.array([[-1, 0, 1], [-2, 0, 2], [-1, 0, 1]]);\n",
    "y_dir = numpy.transpose(x_dir);\n",
    "xy_dir = numpy.array([[0, 1, 2], [-1, 0, 1], [-2, 1, 0]]);\n",
    "yx_dir = numpy.array([[2, 1, 0], [1, 0, -1], [0, -1, -2]]);\n",
    "\n",
    "siftAll = numpy.zeros([3,3,8]);\n",
    "siftAll[:, :, 0] = -1 * x_dir;\n",
    "siftAll[:, :, 1] = -1 * yx_dir;\n",
    "siftAll[:, :, 2] = y_dir;\n",
    "siftAll[:, :, 3] = xy_dir;\n",
    "siftAll[:, :, 4] = x_dir;\n",
    "siftAll[:, :, 5] = -1 * xy_dir;\n",
    "siftAll[:, :, 6] = -1 * y_dir;\n",
    "siftAll[:, :, 7] = yx_dir;\n",
    "\n",
    "siftAll3 = numpy.asarray([siftAll] * 3);\n",
    "\n",
    "siftAll8 = numpy.asarray([siftAll] * 8);\n",
    "\n",
    "sift8_3 = tf.constant(siftAll3, dtype=tf.float32);\n",
    "sift8_3 = tf.reshape(sift8_3, [3, 3, 3, 8]);\n",
    "\n",
    "sift8_8 = tf.constant(siftAll8, dtype=tf.float32);\n",
    "sift8_8 = tf.reshape(sift8_8, [3, 3, 8, 8]);\n",
    "\n",
    "print(sift8_3);\n",
    "print(sift8_8);"
   ]
  },
  {
   "cell_type": "code",
   "execution_count": 62,
   "metadata": {
    "collapsed": false
   },
   "outputs": [],
   "source": [
    "filter_size = {\n",
    "    'wc1' : 3,\n",
    "    'wc2' : 3,\n",
    "    'wc3' : 3,\n",
    "}\n",
    "\n",
    "input_size = {\n",
    "    'wc1' : 3,\n",
    "    'wc2' : 32,\n",
    "    'wc3' : 32,\n",
    "    'fc1' : 64,\n",
    "    'fc2' : 64,\n",
    "    'out' : 1,\n",
    "}\n",
    "\n",
    "input_wh = {\n",
    "    'wc1' : 250,\n",
    "    'wc2' : 125,\n",
    "    'wc3' : 63,\n",
    "    'fc1' : 32,\n",
    "}\n",
    "\n",
    "num_filters = {\n",
    "    'wc1' : 32,\n",
    "    'wc2' : 32,\n",
    "    'wc3' : 64,\n",
    "    'fc1' : 64,\n",
    "    'fc2' : 1,\n",
    "}\n",
    "\n",
    "weights = {\n",
    "    #5x5 convolution, 1 depth layer input, 96 depth layer outputs\n",
    "    'wc1' : tf.Variable(tf.random_normal([filter_size['wc1'], filter_size['wc1'], input_size['wc1'], num_filters['wc1']])),\n",
    "    \n",
    "    'mp1' : 2,\n",
    "    \n",
    "    'wc2' : tf.Variable(tf.random_normal([filter_size['wc2'], filter_size['wc2'], input_size['wc2'], num_filters['wc2']])),\n",
    "    \n",
    "    'mp2' : 2,\n",
    "    \n",
    "    'wc3' : tf.Variable(tf.random_normal([filter_size['wc3'], filter_size['wc3'], input_size['wc3'], num_filters['wc3']])),\n",
    "    \n",
    "    'mp3' : 2,\n",
    "    \n",
    "    'fc1' : tf.Variable(tf.random_normal([input_wh['fc1'] * input_wh['fc1'] * input_size['fc1'], num_filters['fc1']])),\n",
    "    \n",
    "    'fc2' : tf.Variable(tf.random_normal([input_size['fc2'], num_filters['fc2']])),\n",
    "    \n",
    "    'out' : tf.Variable(tf.random_normal([input_size['out'], n_classes]))\n",
    "}\n",
    "\n",
    "strides = {\n",
    "    \n",
    "    'wc1' : 1,\n",
    "    'wc2' : 1,\n",
    "    'wc3' : 1,\n",
    "}\n",
    "\n",
    "biases = {\n",
    "    \n",
    "    'bc1' : tf.Variable(tf.random_normal([num_filters['wc1']])),\n",
    "    'bc2' : tf.Variable(tf.random_normal([num_filters['wc2']])),\n",
    "    'bc3' : tf.Variable(tf.random_normal([num_filters['wc3']])),\n",
    "    'fc1' : tf.Variable(tf.random_normal([num_filters['fc1']])),\n",
    "    'fc2' : tf.Variable(tf.random_normal([num_filters['fc2']])),\n",
    "    'out' : tf.Variable(tf.random_normal([n_classes]))\n",
    "}"
   ]
  },
  {
   "cell_type": "code",
   "execution_count": 69,
   "metadata": {
    "collapsed": false
   },
   "outputs": [],
   "source": [
    "def get_size(ten):\n",
    "    tens = ten.get_shape();\n",
    "    val = tens[1];\n",
    "    for i in range(2, len(tens)):\n",
    "        val = val * tens[i];\n",
    "    return val;\n",
    "\n",
    "def conv2d(x, weights, biases, strides=1):\n",
    "    x = tf.nn.conv2d(x, weights, strides=[1, strides, strides, 1], padding='SAME');\n",
    "    x = tf.nn.bias_add(x, biases);\n",
    "    return tf.nn.relu(x);\n",
    "\n",
    "def maxpool2d(x, k=2):\n",
    "    return tf.nn.max_pool(x, ksize=[1, k, k, 1], strides=[1, k, k, 1], padding='SAME');\n",
    "\n",
    "def conv_net(x, weights, biases, dropout):\n",
    "    #reshape input picture\n",
    "\n",
    "    x = tf.reshape(x, shape=[-1, max_size[0], max_size[1], 3]);\n",
    "    \n",
    "    #convolution layer\n",
    "    conv1 = conv2d(x, weights['wc1'], biases['bc1'], strides=strides['wc1']);\n",
    "    print('conv1  ', conv1.get_shape(), get_size(conv1));\n",
    "    \n",
    "    conv1 = maxpool2d(conv1, k=weights['mp1']);\n",
    "    print('pool1 ', conv1.get_shape(), get_size(conv1));\n",
    "    \n",
    "    conv1 = tf.nn.relu(conv1);\n",
    "    print('relu1 ', conv1.get_shape(), get_size(conv1));\n",
    "\n",
    "    conv2 = conv2d(conv1, weights['wc2'], biases['bc2'], strides=strides['wc2']);\n",
    "    print('conv2  ', conv2.get_shape(), get_size(conv2));\n",
    "    \n",
    "    conv2 = maxpool2d(conv2, k=weights['mp2']);\n",
    "    print('pool2  ', conv2.get_shape(), get_size(conv2));\n",
    "    \n",
    "    conv2 = tf.nn.relu(conv2);\n",
    "    print('relu2 ', conv2.get_shape(), get_size(conv2));\n",
    "    \n",
    "    conv3 = conv2d(conv2, weights['wc3'], biases['bc3'], strides=strides['wc3']);\n",
    "    print('conv3  ', conv3.get_shape(), get_size(conv3));\n",
    "    \n",
    "    conv3 = maxpool2d(conv3, k=weights['mp3']);\n",
    "    print('pool3  ', conv3.get_shape(), get_size(conv3));\n",
    "    \n",
    "    conv3 = tf.nn.relu(conv3);\n",
    "    print('relu3 ', conv3.get_shape(), get_size(conv3));\n",
    "    \n",
    "    fc1 = tf.reshape(conv3, [-1, weights['fc1'].get_shape().as_list()[0]]);\n",
    "    fc1 = tf.add(tf.matmul(fc1, weights['fc1']), biases['fc1']);\n",
    "    fc1 = tf.nn.relu(fc1);\n",
    "    print('fcon1  ', fc1.get_shape(), get_size(fc1));\n",
    "    \n",
    "    fc2 = tf.reshape(fc1, [-1, weights['fc2'].get_shape().as_list()[0]]);\n",
    "    fc2 = tf.add(tf.matmul(fc2, weights['fc2']), biases['fc2']);\n",
    "    fc2 = tf.sigmoid(fc2);\n",
    "    print('fconv2 ', fc2.get_shape(), get_size(fc2));\n",
    "    \n",
    "    #output, class prediction\n",
    "    out = tf.add(tf.matmul(fc2, weights['out']), biases['out'])\n",
    "    #out = tf.sigmoid(fc2);\n",
    "    print('outp1  ', out.get_shape(), get_size(out));\n",
    "    \n",
    "    return out;"
   ]
  },
  {
   "cell_type": "code",
   "execution_count": 70,
   "metadata": {
    "collapsed": false
   },
   "outputs": [
    {
     "name": "stdout",
     "output_type": "stream",
     "text": [
      "conv1   (?, 250, 250, 32) 2000000\n",
      "pool1  (?, 125, 125, 32) 500000\n",
      "relu1  (?, 125, 125, 32) 500000\n",
      "conv2   (?, 125, 125, 32) 500000\n",
      "pool2   (?, 63, 63, 32) 127008\n",
      "relu2  (?, 63, 63, 32) 127008\n",
      "conv3   (?, 63, 63, 64) 254016\n",
      "pool3   (?, 32, 32, 64) 65536\n",
      "relu3  (?, 32, 32, 64) 65536\n",
      "fcon1   (?, 64) 64\n",
      "fconv2  (?, 1) 1\n",
      "outp1   (?, 2) 2\n"
     ]
    }
   ],
   "source": [
    "pred = conv_net(x, weights, biases, keep_prob);\n",
    "\n",
    "cost = tf.reduce_mean(tf.nn.sigmoid_cross_entropy_with_logits(pred, y));\n",
    "#optimizer = tf.train.AdamOptimizer(learning_rate=learning_rate).minimize(cost);\n",
    "optimizer = tf.train.RMSPropOptimizer(learning_rate=learning_rate).minimize(cost);\n",
    "\n",
    "correct_prediction = tf.equal(tf.argmax(pred, 1), tf.argmax(y, 1));\n",
    "accuracy = tf.reduce_mean(tf.cast(correct_prediction, tf.float32));\n",
    "\n",
    "init = tf.initialize_all_variables();"
   ]
  },
  {
   "cell_type": "code",
   "execution_count": 71,
   "metadata": {
    "collapsed": false
   },
   "outputs": [
    {
     "name": "stdout",
     "output_type": "stream",
     "text": [
      "completed on batch  0\n",
      "completed on batch  100\n",
      "completed on batch  200\n",
      "completed on batch  300\n",
      "completed on batch  400\n",
      "\n",
      "Training finished\n",
      "\n",
      "Testing accuracy:  0.482\n"
     ]
    }
   ],
   "source": [
    "with tf.Session() as session:\n",
    "    session.run(init);\n",
    "    batch_length = 5;\n",
    "    \n",
    "    for batch_pos in range(0, len(train_images), batch_length):\n",
    "        batch_x = train_images[batch_pos : batch_pos + batch_length];\n",
    "        batch_y = train_labels[batch_pos : batch_pos + batch_length];\n",
    "        #print(batch_x.shape, batch_y.shape);\n",
    "        session.run(optimizer, feed_dict={x: batch_x, y:batch_y});\n",
    "        \n",
    "        if batch_pos % 100 == 0:\n",
    "            print('completed on batch ', batch_pos);\n",
    "    \n",
    "    print('\\nTraining finished\\n');\n",
    "    \n",
    "    print('Testing accuracy: ', \\\n",
    "         session.run(accuracy, feed_dict={x: test_images, y:test_labels, keep_prob: dropout}));\n",
    "\n",
    "\n",
    "    session.close();"
   ]
  },
  {
   "cell_type": "markdown",
   "metadata": {
    "collapsed": true
   },
   "source": [
    "1. add dropout layer of 0.5\n",
    "2. add sigmoid layer as output\n",
    "3. try rmsprop optimizer\n",
    "4. look at dense layer\n",
    "5. look at sequential"
   ]
  },
  {
   "cell_type": "code",
   "execution_count": null,
   "metadata": {
    "collapsed": true
   },
   "outputs": [],
   "source": []
  }
 ],
 "metadata": {
  "kernelspec": {
   "display_name": "Python 3",
   "language": "python",
   "name": "python3"
  },
  "language_info": {
   "codemirror_mode": {
    "name": "ipython",
    "version": 3
   },
   "file_extension": ".py",
   "mimetype": "text/x-python",
   "name": "python",
   "nbconvert_exporter": "python",
   "pygments_lexer": "ipython3",
   "version": "3.5.2"
  }
 },
 "nbformat": 4,
 "nbformat_minor": 0
}
