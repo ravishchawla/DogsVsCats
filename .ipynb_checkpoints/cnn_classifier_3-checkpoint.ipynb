{
 "cells": [
  {
   "cell_type": "code",
   "execution_count": 1,
   "metadata": {
    "collapsed": false
   },
   "outputs": [],
   "source": [
    "import os;\n",
    "\n",
    "from glob import glob;\n",
    "\n",
    "from skimage import color, io;\n",
    "from scipy.misc import imresize;\n",
    "\n",
    "import tflearn;\n",
    "from tflearn.data_utils import shuffle, to_categorical;\n",
    "from tflearn.layers.core import input_data, dropout, fully_connected;\n",
    "from tflearn.layers.conv import conv_2d, max_pool_2d;\n",
    "from tflearn.layers.estimator import regression;\n",
    "from tflearn.data_preprocessing import ImagePreprocessing;\n",
    "from tflearn.data_augmentation import ImageAugmentation;\n",
    "from tflearn.metrics import Accuracy;\n",
    "from tflearn.utils import feed_dict_builder;\n",
    "\n",
    "import tensorflow as tf\n",
    "\n",
    "from sklearn.cross_validation import train_test_split;\n",
    "\n",
    "import numpy;\n",
    "\n",
    "import pickle;"
   ]
  },
  {
   "cell_type": "code",
   "execution_count": 2,
   "metadata": {
    "collapsed": false
   },
   "outputs": [
    {
     "name": "stdout",
     "output_type": "stream",
     "text": [
      "20000\n"
     ]
    }
   ],
   "source": [
    "files_path = '/Users/ravishchawla/workspace/machinelearning/datasets/dogs_vs_cats/train/';\n",
    "\n",
    "cat_files_path = os.path.join(files_path, 'cats/cat*.jpg');\n",
    "dog_files_path = os.path.join(files_path, 'dogs/dog*.jpg');\n",
    "\n",
    "cat_files = sorted(glob(cat_files_path));\n",
    "dog_files = sorted(glob(dog_files_path));\n",
    "\n",
    "num_files = len(cat_files) + len(dog_files);\n",
    "print(num_files);\n",
    "\n",
    "size_image = 64;"
   ]
  },
  {
   "cell_type": "code",
   "execution_count": 4,
   "metadata": {
    "collapsed": false
   },
   "outputs": [],
   "source": [
    "try:\n",
    "    (all_x, all_y) = pickle.load(open('all_x_y.dat', 'rb'));\n",
    "except:\n",
    "    all_x = numpy.zeros((num_files, size_image, size_image, 3), dtype='float64');\n",
    "    all_y = numpy.zeros(num_files);\n",
    "    count = 0;\n",
    "\n",
    "    for file in cat_files:\n",
    "        try:\n",
    "            img = io.imread(file);\n",
    "            new_img = imresize(img, (size_image, size_image, 3));\n",
    "            all_x[count] = numpy.array(new_img);\n",
    "            all_y[count] = 0;\n",
    "            count = count + 1;\n",
    "        except:\n",
    "            continue\n",
    "\n",
    "    for file in dog_files:\n",
    "        try:\n",
    "            img = io.imread(file);\n",
    "            new_img = imresize(img, (size_image, size_image, 3));\n",
    "            all_x[count] = numpy.array(new_img);\n",
    "            all_y[count] = 1;\n",
    "            count = count + 1;\n",
    "        except:\n",
    "            continue\n",
    "    pickle.dump((all_x, all_y), open('all_x_y.dat', 'wb'));"
   ]
  },
  {
   "cell_type": "code",
   "execution_count": 5,
   "metadata": {
    "collapsed": true
   },
   "outputs": [],
   "source": [
    "X, X_test, Y, Y_test = train_test_split(all_x, all_y, test_size = 0.1, random_state = 42);\n",
    "\n",
    "Y = to_categorical(Y, 2);\n",
    "Y_test = to_categorical(Y_test, 2);"
   ]
  },
  {
   "cell_type": "code",
   "execution_count": 6,
   "metadata": {
    "collapsed": false
   },
   "outputs": [],
   "source": [
    "img_prep = ImagePreprocessing();\n",
    "img_prep.add_featurewise_zero_center();\n",
    "img_prep.add_featurewise_stdnorm();\n",
    "\n",
    "img_aug = ImageAugmentation();\n",
    "img_aug.add_random_flip_leftright();\n",
    "img_aug.add_random_rotation(max_angle=25.);"
   ]
  },
  {
   "cell_type": "code",
   "execution_count": 7,
   "metadata": {
    "collapsed": false
   },
   "outputs": [],
   "source": [
    "network = input_data(shape=[None, 64, 64, 3],\n",
    "data_preprocessing=img_prep,\n",
    "data_augmentation=img_aug);\n",
    "\n",
    "conv_1 = conv_2d(network, 32, 3, activation='relu', name='conv_1');\n",
    "\n",
    "network = max_pool_2d(conv_1, 2);\n",
    "\n",
    "conv_2 = conv_2d(network, 64, 3, activation='relu', name='conv_2');\n",
    "\n",
    "conv_3 = conv_2d(conv_2, 64, 3, activation='relu', name='conv_3');\n",
    "\n",
    "network = max_pool_2d(conv_3, 2);\n",
    "\n",
    "network = fully_connected(network, 512, activation='relu');\n",
    "\n",
    "network = dropout(network, 0.5);\n",
    "\n",
    "network = fully_connected(network, 2, activation='softmax');\n",
    "\n",
    "accuracy = Accuracy(name='Accuracy');\n",
    "network = regression(network, optimizer='adam',\n",
    "loss='categorical_crossentropy',\n",
    "learning_rate=0.0005, metric=accuracy);\n",
    "\n",
    "model = tflearn.DNN(network, checkpoint_path='model_cat_dog_6.tflearn', max_checkpoints=3,\n",
    "tensorboard_verbose=3, tensorboard_dir='tmp.tflearn_logs');"
   ]
  },
  {
   "cell_type": "code",
   "execution_count": 9,
   "metadata": {
    "collapsed": true
   },
   "outputs": [],
   "source": [
    "model.load('model_cat_dog_6_final.tflearn');"
   ]
  },
  {
   "cell_type": "code",
   "execution_count": 8,
   "metadata": {
    "collapsed": false
   },
   "outputs": [
    {
     "name": "stdout",
     "output_type": "stream",
     "text": [
      "Training Step: 3600  | total loss: \u001b[1m\u001b[32m0.13467\u001b[0m\u001b[0m\n",
      "| Adam | epoch: 100 | loss: 0.13467 - Accuracy: 0.9710 | val_loss: 0.47313 - val_acc: 0.8385 -- iter: 18000/18000\n",
      "Training Step: 3600  | total loss: \u001b[1m\u001b[32m0.13467\u001b[0m\u001b[0m\n",
      "| Adam | epoch: 100 | loss: 0.13467 - Accuracy: 0.9710 | val_loss: 0.47313 - val_acc: 0.8385 -- iter: 18000/18000\n",
      "--\n"
     ]
    }
   ],
   "source": [
    "model.fit(X_inputs=X, Y_targets=Y, validation_set=(X_test, Y_test), batch_size=500,\n",
    "n_epoch=100, run_id='model_cat_dog_6', show_metric=True);\n",
    "\n",
    "model.save('model_cat_dog_6_final.tflearn');"
   ]
  },
  {
   "cell_type": "code",
   "execution_count": 9,
   "metadata": {
    "collapsed": false
   },
   "outputs": [
    {
     "name": "stdout",
     "output_type": "stream",
     "text": [
      "12500\n"
     ]
    }
   ],
   "source": [
    "kaggle_path = '/Users/ravishchawla/workspace/machinelearning/datasets/dogs_vs_cats/kaggle/';\n",
    "\n",
    "kaggle_files_path = os.path.join(kaggle_path, '*.jpg');\n",
    "\n",
    "kaggle_files = sorted(glob(kaggle_files_path));\n",
    "\n",
    "num_kaggle_files = len(kaggle_files)\n",
    "print(num_kaggle_files);\n",
    "\n",
    "size_image = 64;"
   ]
  },
  {
   "cell_type": "code",
   "execution_count": 72,
   "metadata": {
    "collapsed": false
   },
   "outputs": [],
   "source": [
    "kaggle_x = numpy.zeros((num_kaggle_files, size_image, size_image, 3), dtype='float64');\n",
    "kaggle_y = numpy.zeros(num_kaggle_files)\n",
    "count = 0;\n",
    "\n",
    "for file in kaggle_files:\n",
    "    try:\n",
    "        img = io.imread(file);\n",
    "        new_img = imresize(img, (size_image, size_image, 3));\n",
    "        kaggle_x[count] = numpy.array(new_img);\n",
    "        kaggle_y[count] = 0;\n",
    "        count = count + 1;\n",
    "    except:\n",
    "        continue"
   ]
  },
  {
   "cell_type": "code",
   "execution_count": 87,
   "metadata": {
    "collapsed": false
   },
   "outputs": [
    {
     "ename": "IndexError",
     "evalue": "list index out of range",
     "output_type": "error",
     "traceback": [
      "\u001b[0;31m---------------------------------------------------------------------------\u001b[0m",
      "\u001b[0;31mIndexError\u001b[0m                                Traceback (most recent call last)",
      "\u001b[0;32m<ipython-input-87-1db405c46409>\u001b[0m in \u001b[0;36m<module>\u001b[0;34m()\u001b[0m\n\u001b[1;32m      1\u001b[0m \u001b[0mtensor\u001b[0m \u001b[0;34m=\u001b[0m \u001b[0mmodel\u001b[0m\u001b[0;34m.\u001b[0m\u001b[0mpredictor\u001b[0m\u001b[0;34m.\u001b[0m\u001b[0mtensors\u001b[0m\u001b[0;34m[\u001b[0m\u001b[0;36m0\u001b[0m\u001b[0;34m]\u001b[0m\u001b[0;34m;\u001b[0m\u001b[0;34m\u001b[0m\u001b[0m\n\u001b[1;32m      2\u001b[0m \u001b[0;34m\u001b[0m\u001b[0m\n\u001b[0;32m----> 3\u001b[0;31m \u001b[0mfeed_dict\u001b[0m \u001b[0;34m=\u001b[0m \u001b[0mfeed_dict_builder\u001b[0m\u001b[0;34m(\u001b[0m\u001b[0mkaggle_x\u001b[0m\u001b[0;34m,\u001b[0m \u001b[0;32mNone\u001b[0m\u001b[0;34m,\u001b[0m \u001b[0mmodel\u001b[0m\u001b[0;34m.\u001b[0m\u001b[0minputs\u001b[0m\u001b[0;34m,\u001b[0m \u001b[0;32mNone\u001b[0m\u001b[0;34m)\u001b[0m\u001b[0;34m;\u001b[0m\u001b[0;34m\u001b[0m\u001b[0m\n\u001b[0m\u001b[1;32m      4\u001b[0m \u001b[0;34m\u001b[0m\u001b[0m\n\u001b[1;32m      5\u001b[0m \u001b[0mo_pred\u001b[0m \u001b[0;34m=\u001b[0m \u001b[0mmodel\u001b[0m\u001b[0;34m.\u001b[0m\u001b[0msession\u001b[0m\u001b[0;34m.\u001b[0m\u001b[0mrun\u001b[0m\u001b[0;34m(\u001b[0m\u001b[0mtensor\u001b[0m\u001b[0;34m,\u001b[0m \u001b[0mfeed_dict\u001b[0m\u001b[0;34m)\u001b[0m\u001b[0;34m;\u001b[0m\u001b[0;34m\u001b[0m\u001b[0m\n",
      "\u001b[0;32m/usr/local/lib/python3.5/site-packages/tflearn/utils.py\u001b[0m in \u001b[0;36mfeed_dict_builder\u001b[0;34m(X, Y, net_inputs, net_targets)\u001b[0m\n\u001b[1;32m    265\u001b[0m                 \u001b[0mX\u001b[0m \u001b[0;34m=\u001b[0m \u001b[0;34m[\u001b[0m\u001b[0mX\u001b[0m\u001b[0;34m]\u001b[0m\u001b[0;34m\u001b[0m\u001b[0m\n\u001b[1;32m    266\u001b[0m             \u001b[0;32mfor\u001b[0m \u001b[0mi\u001b[0m\u001b[0;34m,\u001b[0m \u001b[0mx\u001b[0m \u001b[0;32min\u001b[0m \u001b[0menumerate\u001b[0m\u001b[0;34m(\u001b[0m\u001b[0mX\u001b[0m\u001b[0;34m)\u001b[0m\u001b[0;34m:\u001b[0m\u001b[0;34m\u001b[0m\u001b[0m\n\u001b[0;32m--> 267\u001b[0;31m                 \u001b[0mfeed_dict\u001b[0m\u001b[0;34m[\u001b[0m\u001b[0mnet_inputs\u001b[0m\u001b[0;34m[\u001b[0m\u001b[0mi\u001b[0m\u001b[0;34m]\u001b[0m\u001b[0;34m]\u001b[0m \u001b[0;34m=\u001b[0m \u001b[0mx\u001b[0m\u001b[0;34m\u001b[0m\u001b[0m\n\u001b[0m\u001b[1;32m    268\u001b[0m         \u001b[0;32melse\u001b[0m\u001b[0;34m:\u001b[0m\u001b[0;34m\u001b[0m\u001b[0m\n\u001b[1;32m    269\u001b[0m             \u001b[0;31m# If a dict is provided\u001b[0m\u001b[0;34m\u001b[0m\u001b[0;34m\u001b[0m\u001b[0m\n",
      "\u001b[0;31mIndexError\u001b[0m: list index out of range"
     ]
    }
   ],
   "source": [
    "tensor = model.predictor.tensors[0];\n",
    "\n",
    "feed_dict = feed_dict_builder(kaggle_x, None, model.inputs, None);\n",
    "\n",
    "o_pred = model.session.run(tensor, feed_dict);"
   ]
  },
  {
   "cell_type": "code",
   "execution_count": 25,
   "metadata": {
    "collapsed": false
   },
   "outputs": [],
   "source": [
    "fxy = feed_dict_builder(kaggle_x, kaggle_y, model.inputs, None)"
   ]
  },
  {
   "cell_type": "code",
   "execution_count": 32,
   "metadata": {
    "collapsed": false
   },
   "outputs": [],
   "source": [
    "ww = model.predictor.tensors[0].W;\n",
    "bb = model.predictor.tensors[0].b;\n",
    "\n",
    "ww = tf.cast(ww, tf.float64);\n",
    "bb = tf.cast(bb, tf.float64);"
   ]
  },
  {
   "cell_type": "code",
   "execution_count": 36,
   "metadata": {
    "collapsed": false
   },
   "outputs": [
    {
     "name": "stdout",
     "output_type": "stream",
     "text": [
      "(512, 2)\n",
      "(2,)\n"
     ]
    }
   ],
   "source": [
    "#wb = tf.nn.softmax(tf.matmul(kaggle_x, ww) + bb);"
   ]
  },
  {
   "cell_type": "code",
   "execution_count": 32,
   "metadata": {
    "collapsed": false
   },
   "outputs": [],
   "source": [
    "tfk = tf.constant(kaggle_x)"
   ]
  },
  {
   "cell_type": "code",
   "execution_count": 73,
   "metadata": {
    "collapsed": false
   },
   "outputs": [
    {
     "data": {
      "text/plain": [
       "[[0.0635472908616066, 0.9364526271820068],\n",
       " [0.9999855756759644, 1.4464941159531008e-05],\n",
       " [0.7574545741081238, 0.2425454556941986]]"
      ]
     },
     "execution_count": 73,
     "metadata": {},
     "output_type": "execute_result"
    }
   ],
   "source": [
    "model.predict(kaggle_x[0:3])"
   ]
  },
  {
   "cell_type": "code",
   "execution_count": 65,
   "metadata": {
    "collapsed": false
   },
   "outputs": [
    {
     "data": {
      "text/plain": [
       "(12500, 64, 64, 3)"
      ]
     },
     "execution_count": 65,
     "metadata": {},
     "output_type": "execute_result"
    }
   ],
   "source": [
    "kaggle_x.shape"
   ]
  },
  {
   "cell_type": "code",
   "execution_count": 74,
   "metadata": {
    "collapsed": false
   },
   "outputs": [],
   "source": [
    "results = model.predict(kaggle_x)"
   ]
  },
  {
   "cell_type": "code",
   "execution_count": 75,
   "metadata": {
    "collapsed": false
   },
   "outputs": [
    {
     "name": "stdout",
     "output_type": "stream",
     "text": [
      "[0.9999998807907104, 9.11728648134158e-08]\n",
      "[0.0029421914368867874, 0.9970577955245972]\n",
      "[2.154567710022093e-06, 0.9999978542327881]\n",
      "[0.9748446941375732, 0.02515525557100773]\n",
      "[1.2790184200639487e-07, 0.9999998807907104]\n",
      "[0.9531779289245605, 0.04682211950421333]\n",
      "[0.9987599849700928, 0.0012400398263707757]\n",
      "[0.2991756200790405, 0.7008243799209595]\n",
      "[0.9999946355819702, 5.362954652810004e-06]\n",
      "[0.9272063374519348, 0.07279374450445175]\n",
      "[0.9950997233390808, 0.004900339059531689]\n",
      "[0.44742345809936523, 0.5525765419006348]\n",
      "[0.9999996423721313, 3.000851052092912e-07]\n",
      "[0.4019033908843994, 0.5980966687202454]\n",
      "[0.022122301161289215, 0.9778776168823242]\n",
      "[1.0, 2.9535813794723254e-09]\n",
      "[0.023684874176979065, 0.9763151407241821]\n",
      "[0.01605876162648201, 0.9839412569999695]\n",
      "[0.11946554481983185, 0.8805344700813293]\n",
      "[0.002869709162041545, 0.9971303343772888]\n",
      "[0.00023013362078927457, 0.9997698664665222]\n",
      "[0.9971505999565125, 0.002849406795576215]\n",
      "[0.9995611310005188, 0.0004388746165204793]\n",
      "[0.9885022640228271, 0.011497706174850464]\n",
      "[0.0288726594299078, 0.9711273908615112]\n",
      "[0.19021731615066528, 0.8097826242446899]\n",
      "[0.9999773502349854, 2.2624575649388134e-05]\n",
      "[0.9414310455322266, 0.05856898054480553]\n",
      "[0.005811964627355337, 0.9941880702972412]\n",
      "[0.08504360169172287, 0.9149564504623413]\n",
      "[0.018001390621066093, 0.9819985628128052]\n",
      "[0.023719286546111107, 0.976280689239502]\n",
      "[0.999962568283081, 3.747206574189477e-05]\n",
      "[0.9763443470001221, 0.02365564927458763]\n",
      "[0.0010648571187630296, 0.9989351630210876]\n",
      "[0.04936983063817024, 0.9506301879882812]\n",
      "[0.9987241625785828, 0.0012758133234456182]\n",
      "[0.9999977350234985, 2.30442606152792e-06]\n",
      "[0.0003325474972371012, 0.9996674060821533]\n",
      "[0.0003062311152461916, 0.999693751335144]\n",
      "[0.8252097964286804, 0.17479023337364197]\n",
      "[0.967780590057373, 0.03221941366791725]\n",
      "[0.00012795095972251147, 0.999872088432312]\n",
      "[0.9941089153289795, 0.005891062784940004]\n",
      "[0.9991626739501953, 0.0008373428718186915]\n",
      "[0.9999520778656006, 4.788551450474188e-05]\n",
      "[0.002190915634855628, 0.997809112071991]\n",
      "[0.9994854927062988, 0.0005145221366547048]\n",
      "[0.9996938705444336, 0.00030613187118433416]\n",
      "[3.205411121598445e-05, 0.9999679327011108]\n",
      "[0.947647750377655, 0.05235222354531288]\n",
      "[1.0, 1.893324075297187e-08]\n",
      "[0.9779365658760071, 0.02206340618431568]\n",
      "[0.9999703168869019, 2.9641885703313164e-05]\n",
      "[0.3803648054599762, 0.6196351051330566]\n",
      "[0.9999880790710449, 1.1969058505201247e-05]\n",
      "[0.646438479423523, 0.35356149077415466]\n",
      "[0.9764840006828308, 0.023516010493040085]\n",
      "[0.9999966621398926, 3.3308303954981966e-06]\n",
      "[0.0005065887817181647, 0.9994933605194092]\n",
      "[0.2991503179073334, 0.7008497714996338]\n",
      "[0.03507538512349129, 0.9649246335029602]\n",
      "[0.0003613052540458739, 0.9996386766433716]\n",
      "[5.5500404414488e-06, 0.9999943971633911]\n",
      "[0.9900467991828918, 0.009953207336366177]\n",
      "[0.0026033439207822084, 0.99739670753479]\n",
      "[0.0014211471425369382, 0.9985789060592651]\n",
      "[0.5552852153778076, 0.44471475481987]\n",
      "[0.4090961217880249, 0.5909038782119751]\n",
      "[0.004671237897127867, 0.9953287839889526]\n",
      "[0.47940361499786377, 0.520596444606781]\n",
      "[0.9999982118606567, 1.8075724028676632e-06]\n",
      "[0.9984851479530334, 0.0015148469246923923]\n",
      "[0.014134914614260197, 0.9858651161193848]\n",
      "[0.0005520725389942527, 0.9994478821754456]\n",
      "[0.9699934124946594, 0.03000655397772789]\n",
      "[0.9998816251754761, 0.00011830595758510754]\n",
      "[0.6078513860702515, 0.39214861392974854]\n",
      "[0.00015842352877371013, 0.999841570854187]\n",
      "[0.09538651257753372, 0.9046135544776917]\n",
      "[0.9974182844161987, 0.0025817169807851315]\n",
      "[0.00744521152228117, 0.9925548434257507]\n",
      "[0.6191903352737427, 0.3808096647262573]\n",
      "[0.9996793270111084, 0.00032068113796412945]\n",
      "[0.05305290222167969, 0.9469471573829651]\n",
      "[0.48179009556770325, 0.5182098746299744]\n",
      "[0.002869709162041545, 0.9971303343772888]\n",
      "[0.9999984502792358, 1.564949002386129e-06]\n",
      "[0.9999945163726807, 5.507317382580368e-06]\n",
      "[0.006391623988747597, 0.9936083555221558]\n",
      "[2.7966045763605507e-06, 0.9999972581863403]\n",
      "[5.4113531433586104e-08, 1.0]\n",
      "[0.8608008027076721, 0.13919922709465027]\n",
      "[1.0, 2.04888311178264e-11]\n",
      "[0.9998517036437988, 0.00014831655425950885]\n",
      "[0.17774637043476105, 0.8222535848617554]\n",
      "[0.5375447273254395, 0.46245530247688293]\n",
      "[6.242671379830256e-10, 1.0]\n",
      "[0.7017149329185486, 0.29828497767448425]\n",
      "[0.00032980352989397943, 0.999670147895813]\n"
     ]
    }
   ],
   "source": [
    "ch = numpy.random.choice(len(kaggle_x), 100);\n",
    "for c in ch:\n",
    "    print(results[c])"
   ]
  },
  {
   "cell_type": "code",
   "execution_count": 76,
   "metadata": {
    "collapsed": true
   },
   "outputs": [],
   "source": [
    "pickle.dump(results, open('results.dat', 'wb'))"
   ]
  },
  {
   "cell_type": "code",
   "execution_count": 100,
   "metadata": {
    "collapsed": false
   },
   "outputs": [],
   "source": [
    "kaggle_formatted = numpy.zeros(num_kaggle_files);\n",
    "for i, row in enumerate(results):\n",
    "    kaggle_formatted[i] = row[1];"
   ]
  },
  {
   "cell_type": "code",
   "execution_count": 108,
   "metadata": {
    "collapsed": false
   },
   "outputs": [],
   "source": [
    "with open('kaggle_output.csv', 'w') as f:\n",
    "    f.write('id,label\\n');\n",
    "    for i,row in enumerate(kaggle_formatted):\n",
    "        f.write(str(i) + \",\" + str(row) + \"\\n\");"
   ]
  },
  {
   "cell_type": "code",
   "execution_count": null,
   "metadata": {
    "collapsed": true
   },
   "outputs": [],
   "source": []
  }
 ],
 "metadata": {
  "kernelspec": {
   "display_name": "Python 3",
   "language": "python",
   "name": "python3"
  },
  "language_info": {
   "codemirror_mode": {
    "name": "ipython",
    "version": 3
   },
   "file_extension": ".py",
   "mimetype": "text/x-python",
   "name": "python",
   "nbconvert_exporter": "python",
   "pygments_lexer": "ipython3",
   "version": "3.5.2"
  }
 },
 "nbformat": 4,
 "nbformat_minor": 0
}
