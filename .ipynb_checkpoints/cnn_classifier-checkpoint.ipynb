{
 "cells": [
  {
   "cell_type": "markdown",
   "metadata": {},
   "source": [
    "#### CS 8803 BDS Project\n",
    "### Author: RAVISH CHAWLA"
   ]
  },
  {
   "cell_type": "code",
   "execution_count": 1,
   "metadata": {
    "collapsed": true
   },
   "outputs": [],
   "source": [
    "%matplotlib inline\n",
    "\n",
    "import pandas;\n",
    "import cv2;\n",
    "import pickle;\n",
    "import numpy;\n",
    "import os;\n",
    "import os.path;\n",
    "\n",
    "from matplotlib import pyplot;\n",
    "\n",
    "import tensorflow as tf;"
   ]
  },
  {
   "cell_type": "code",
   "execution_count": 2,
   "metadata": {
    "collapsed": true
   },
   "outputs": [],
   "source": [
    "images_dir = \"/Users/ravishchawla/workspace/machinelearning/datasets/dogs_vs_cats/\";\n",
    "train_dir = images_dir + \"train/\";\n",
    "test_dir = images_dir + \"test/\";"
   ]
  },
  {
   "cell_type": "code",
   "execution_count": 3,
   "metadata": {
    "collapsed": false
   },
   "outputs": [
    {
     "name": "stdout",
     "output_type": "stream",
     "text": [
      "dataset loaded\n"
     ]
    }
   ],
   "source": [
    "file_names_p = 'file_names.p';\n",
    "\n",
    "train_file_names = [];\n",
    "test_file_names = [];\n",
    "\n",
    "if os.path.isfile(file_names_p):\n",
    "    train_file_names, test_file_names = pickle.load(open(file_names_p, 'rb'));\n",
    "    train_file_names = train_file_names[0];\n",
    "    test_file_names = test_file_names[0];\n",
    "    print('dataset loaded');\n",
    "else:\n",
    "    for root, folder, file in os.walk(train_dir):\n",
    "        train_file_names.append(file);\n",
    "\n",
    "    for root, folder, file in os.walk(test_dir):\n",
    "        test_file_names.append(file);\n",
    "\n",
    "    pickle.dump((train_file_names, test_file_names), open(file_names_p, 'wb'));"
   ]
  },
  {
   "cell_type": "code",
   "execution_count": 4,
   "metadata": {
    "collapsed": false
   },
   "outputs": [
    {
     "name": "stdout",
     "output_type": "stream",
     "text": [
      "[500, 500]\n",
      "[500, 500]\n",
      "250\n",
      "250\n",
      "[500, 500]\n"
     ]
    }
   ],
   "source": [
    "def load_images_and_labels(files_dir, image_names, size_sample):\n",
    "    max_size = [0, 0];\n",
    "    \n",
    "    image_set = numpy.random.choice(image_names, size=size_sample);\n",
    "    \n",
    "    loaded_images = [];\n",
    "    labels_list = [];\n",
    "    \n",
    "    for fname in image_set:\n",
    "        img = cv2.imread(files_dir + fname);\n",
    "        if img.shape[0] > max_size[0]:\n",
    "            max_size[0] = img.shape[0];\n",
    "        if img.shape[1] > max_size[1]:\n",
    "            max_size[1] = img.shape[1];\n",
    "        \n",
    "        if 'cat' in fname:\n",
    "            labels_list.append([0,1]);\n",
    "        elif 'dog' in fname:\n",
    "            labels_list.append([1,0]);\n",
    "        else:\n",
    "            labels_list.append([0,0]);\n",
    "\n",
    "        loaded_images.append(img);\n",
    "    \n",
    "    print(max_size);\n",
    "    \n",
    "    return [loaded_images, labels_list, max_size];\n",
    "\n",
    "def process_images(images, border_size):\n",
    "    images_list = [];\n",
    "\n",
    "    print(len(images))\n",
    "    for image_pos in range(0, len(images)):\n",
    "        img = images[image_pos];\n",
    "        \n",
    "        width_diff = (border_size[1] - img.shape[1]);\n",
    "        height_diff = (border_size[0] - img.shape[0]);\n",
    "    \n",
    "        width_diffs = [width_diff // 2, width_diff - (width_diff // 2)];\n",
    "        height_diffs = [height_diff // 2, height_diff - (height_diff // 2)];\n",
    "        \n",
    "        bet_img = cv2.copyMakeBorder(img, height_diffs[0], height_diffs[1], width_diffs[0], width_diffs[1], cv2.BORDER_REFLECT);\n",
    "        \n",
    "        bw_img = cv2.cvtColor(bet_img, cv2.COLOR_BGR2GRAY);\n",
    "        \n",
    "        flat_image = numpy.reshape(bw_img, [bw_img.shape[0] * bw_img.shape[1]]);\n",
    "        #flat_image = flat_image.astype('float32');\n",
    "        \n",
    "        images_list.append(flat_image);\n",
    "        \n",
    "    \n",
    "    images_list = numpy.array(images_list);\n",
    "    \n",
    "    return images_list;\n",
    "#print(images_with_labels);\n",
    "\n",
    "#Parameters\n",
    "\n",
    "learning_rate = 0.001;\n",
    "training_iters = 20000;\n",
    "batch_size = 128;\n",
    "display_step = 10;\n",
    "\n",
    "num_train_images = 250;\n",
    "num_test_images = 250;\n",
    "\n",
    "train_and_test_set = numpy.random.choice(train_file_names, num_train_images + num_test_images);\n",
    "\n",
    "train_images, train_labels, train_size = load_images_and_labels(train_dir, train_and_test_set[:num_train_images], num_train_images);\n",
    "test_images, test_labels, test_size = load_images_and_labels(train_dir, train_and_test_set[num_train_images:num_train_images+num_test_images], num_test_images);\n",
    "\n",
    "max_size = [train_size[0] if train_size[0] > test_size[0] else test_size[0], \\\n",
    "            train_size[1] if train_size[1] > test_size[1] else test_size[1]];\n",
    "\n",
    "\n",
    "train_images = process_images(train_images, max_size);\n",
    "test_images = process_images(test_images, max_size);\n",
    "\n",
    "n_input = max_size[0] * max_size[1]; #data input\n",
    "n_classes = 2; #total classes = 10\n",
    "dropout = 0.75; #probability to keep units\n",
    "\n",
    "x = tf.placeholder(tf.float32, [None, n_input]);\n",
    "y = tf.placeholder(tf.float32, [None, n_classes]);\n",
    "keep_prob = tf.placeholder(tf.float32) #dropout\n",
    "\n",
    "print(max_size);\n",
    "\n",
    "#train_images, train_labels = process_images_and_labels(train_dir, train_file_names, 5);\n",
    "#test_images, test_labels = process_images_and_labels(test_dir, test_file_names, 250);"
   ]
  },
  {
   "cell_type": "code",
   "execution_count": 5,
   "metadata": {
    "collapsed": false
   },
   "outputs": [],
   "source": [
    "weights = {\n",
    "    #5x5 convolution. 1 input. 32 outputs.\n",
    "    'wc1' : tf.Variable(tf.random_normal([5,5,1,32])),\n",
    "    \n",
    "    #max pooling layer\n",
    "    'mp1' : tf.constant(2),\n",
    "    \n",
    "    #5x5 convolution. 32 inputs. 64 outputs.\n",
    "    'wc2' : tf.Variable(tf.random_normal([5, 5, 32, 64])),\n",
    "    \n",
    "    #max pooling layer\n",
    "    #'mp2' : tf.constant(2),\n",
    "    \n",
    "    #reshape from input to output\n",
    "    'wd1' : tf.Variable(tf.random_normal([max_size[0] * max_size[1] *4 , n_classes])),\n",
    "    \n",
    "    #32 inputs. 2 outputs (class prediction).\n",
    "    'out' : tf.Variable(tf.random_normal([max_size[0] * max_size[1] *4,n_classes]))\n",
    "}\n",
    "\n",
    "biases = {\n",
    "    'bc1' : tf.Variable(tf.random_normal([32])),\n",
    "    'bc2' : tf.Variable(tf.random_normal([64])),\n",
    "    'out' : tf.Variable(tf.random_normal([n_classes]))\n",
    "}"
   ]
  },
  {
   "cell_type": "code",
   "execution_count": 6,
   "metadata": {
    "collapsed": true
   },
   "outputs": [],
   "source": [
    "def get_size(ten):\n",
    "    tens = ten.get_shape();\n",
    "    val = tens[1];\n",
    "    for i in range(2, len(tens)):\n",
    "        val = val * tens[i];\n",
    "    return val;\n",
    "\n",
    "def conv2d(x, weights, biases, strides=1):\n",
    "    x = tf.nn.conv2d(x, weights, strides=[1, strides, strides, 1], padding='SAME');\n",
    "    x = tf.nn.bias_add(x, biases);\n",
    "    return tf.nn.relu(x);\n",
    "\n",
    "def maxpool2d(x, k=2):\n",
    "    return tf.nn.max_pool(x, ksize=[1, k, k, 1], strides=[1, k, k, 1], padding='SAME');\n",
    "\n",
    "def conv_net(x, weights, biases, dropout):\n",
    "    #reshape input picture\n",
    "\n",
    "    x = tf.reshape(x, shape=[-1, max_size[0], max_size[1], 1]);\n",
    "    \n",
    "    #convolution layer\n",
    "    conv1 = conv2d(x, weights['wc1'], biases['bc1']);\n",
    "    print('conv1  ', conv1.get_shape(), get_size(conv1));\n",
    "    \n",
    "    conv1 = maxpool2d(conv1, k=2);\n",
    "    print('pool1 ', conv1.get_shape(), get_size(conv1));\n",
    "    \n",
    "    conv2 = conv2d(conv1, weights['wc2'], biases['bc2']);\n",
    "    print('conv2 ', conv2.get_shape(), get_size(conv2));\n",
    "    \n",
    "    conv2 = maxpool2d(conv2, k=2);\n",
    "    print('pool2 ', conv2.get_shape());\n",
    "        \n",
    "    fc1 = tf.reshape(conv2, [-1, weights['wd1'].get_shape().as_list()[0]]);\n",
    "    print('fc1 ', fc1.get_shape(), get_size(fc1));\n",
    "\n",
    "    #output, class prediction\n",
    "    matrx = tf.matmul(fc1, weights['out']);\n",
    "    out = tf.add(matrx, biases['out'])\n",
    "    \n",
    "    return out;"
   ]
  },
  {
   "cell_type": "code",
   "execution_count": 7,
   "metadata": {
    "collapsed": false
   },
   "outputs": [
    {
     "name": "stdout",
     "output_type": "stream",
     "text": [
      "conv1   (?, 500, 500, 32) 8000000\n",
      "pool1  (?, 250, 250, 32) 2000000\n",
      "conv2  (?, 250, 250, 64) 4000000\n",
      "pool2  (?, 125, 125, 64)\n",
      "fc1  (?, 1000000) 1000000\n"
     ]
    }
   ],
   "source": [
    "pred = conv_net(x, weights, biases, keep_prob);\n",
    "\n",
    "cost = tf.reduce_mean(tf.nn.softmax_cross_entropy_with_logits(pred, y));\n",
    "optimizer = tf.train.AdamOptimizer(learning_rate=learning_rate).minimize(cost);\n",
    "\n",
    "correct_prediction = tf.equal(tf.argmax(pred, 1), tf.argmax(y, 1));\n",
    "accuracy = tf.reduce_mean(tf.cast(correct_prediction, tf.float32));\n",
    "\n",
    "init = tf.initialize_all_variables();"
   ]
  },
  {
   "cell_type": "markdown",
   "metadata": {},
   "source": [
    "96 x (500 * 500) x 1\n",
    "\n",
    "(5x5 convolution into:)\n",
    "\n",
    "96 x 500 x 500 x 32\n",
    "\n",
    "(pool to keep only half:)\n",
    "\n",
    "96 x 250 x 250 x 32\n",
    "\n",
    "(5x5 convolution into:)\n",
    "\n",
    "96 x 250 x 250 x 64\n",
    "\n",
    "(pool to keep only half:)\n",
    "\n",
    "96 x 125 x 125 x 64\n",
    "\n",
    "(flatten to output:)\n",
    "\n",
    "96 x 125 x 125 x 64\n"
   ]
  },
  {
   "cell_type": "code",
   "execution_count": null,
   "metadata": {
    "collapsed": false
   },
   "outputs": [
    {
     "name": "stdout",
     "output_type": "stream",
     "text": [
      "completed on batch  0\n",
      "completed on batch  10\n",
      "completed on batch  20\n",
      "completed on batch  30\n",
      "completed on batch  40\n",
      "completed on batch  50\n",
      "completed on batch  60\n",
      "completed on batch  70\n",
      "completed on batch  80\n",
      "completed on batch  90\n",
      "completed on batch  100\n",
      "completed on batch  110\n",
      "completed on batch  120\n",
      "completed on batch  130\n",
      "completed on batch  140\n",
      "completed on batch  150\n"
     ]
    }
   ],
   "source": [
    "with tf.Session() as session:\n",
    "    session.run(init);\n",
    "    batch_length = 5;\n",
    "    \n",
    "    for batch_pos in range(0, len(train_images), batch_length):\n",
    "        batch_x = train_images[batch_pos : batch_pos + batch_length];\n",
    "        batch_y = train_labels[batch_pos : batch_pos + batch_length];\n",
    "        #print(batch_x.shape, batch_y.shape);\n",
    "        session.run(optimizer, feed_dict={x: batch_x, y:batch_y});\n",
    "        \n",
    "        if batch_pos % 10 == 0:\n",
    "            print('completed on batch ', batch_pos);\n",
    "    \n",
    "    print('optimization finished');\n",
    "    \n",
    "    print('Testing accuracy: ', \\\n",
    "         session.run(accuracy, feed_dict={x: test_images, y:test_labels, keep_prob: 1}));\n",
    "\n",
    "\n",
    "    session.close();"
   ]
  },
  {
   "cell_type": "code",
   "execution_count": 247,
   "metadata": {
    "collapsed": true
   },
   "outputs": [],
   "source": [
    "with tf.Session() as sess:\n",
    "    writer = tf.train.SummaryWriter(\"classes\", sess.graph);\n",
    "    writer.close();\n",
    "\n",
    "sess.close()"
   ]
  },
  {
   "cell_type": "code",
   "execution_count": 181,
   "metadata": {
    "collapsed": false
   },
   "outputs": [
    {
     "name": "stdout",
     "output_type": "stream",
     "text": [
      "(5, 250000)\n"
     ]
    },
    {
     "data": {
      "text/plain": [
       "(5, 250000)"
      ]
     },
     "execution_count": 181,
     "metadata": {},
     "output_type": "execute_result"
    }
   ],
   "source": [
    "batch_length = 5;\n",
    "for batch_pos in range(0, len(train_images), batch_length):\n",
    "    batch_x = train_images[batch_pos : batch_pos + batch_length];\n",
    "    batch_y = train_labels[batch_pos : batch_pos + batch_length];\n",
    "    print(batch_x.shape);\n",
    "\n",
    "train_images.shape"
   ]
  },
  {
   "cell_type": "code",
   "execution_count": 177,
   "metadata": {
    "collapsed": false
   },
   "outputs": [
    {
     "data": {
      "text/plain": [
       "240000"
      ]
     },
     "execution_count": 177,
     "metadata": {},
     "output_type": "execute_result"
    }
   ],
   "source": [
    "max_size\n",
    "480*500"
   ]
  },
  {
   "cell_type": "code",
   "execution_count": 146,
   "metadata": {
    "collapsed": false
   },
   "outputs": [
    {
     "name": "stdout",
     "output_type": "stream",
     "text": [
      "[1 2 3 4 5]\n",
      "[ 6  7  8  9 10]\n"
     ]
    }
   ],
   "source": [
    "t1 = 5;\n",
    "t2 = 5;\n",
    "\n",
    "dat = numpy.array([1,2,3,4,5,6,7,8,9,10,11]);\n",
    "\n",
    "print(dat[:t1]);\n",
    "print(dat[t1:t1+t2]);"
   ]
  },
  {
   "cell_type": "code",
   "execution_count": null,
   "metadata": {
    "collapsed": true
   },
   "outputs": [],
   "source": []
  }
 ],
 "metadata": {
  "kernelspec": {
   "display_name": "Python 3",
   "language": "python",
   "name": "python3"
  },
  "language_info": {
   "codemirror_mode": {
    "name": "ipython",
    "version": 3
   },
   "file_extension": ".py",
   "mimetype": "text/x-python",
   "name": "python",
   "nbconvert_exporter": "python",
   "pygments_lexer": "ipython3",
   "version": "3.5.2"
  }
 },
 "nbformat": 4,
 "nbformat_minor": 0
}
