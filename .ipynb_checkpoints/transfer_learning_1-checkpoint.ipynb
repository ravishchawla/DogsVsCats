{
 "cells": [
  {
   "cell_type": "code",
   "execution_count": 1,
   "metadata": {
    "collapsed": false
   },
   "outputs": [],
   "source": [
    "import numpy;\n",
    "import tensorflow as tf\n",
    "import pickle;\n",
    "\n",
    "from tflearn.data_utils import to_categorical\n",
    "\n",
    "import os;\n",
    "from glob import glob;\n",
    "\n",
    "from skimage import color, io;\n",
    "from scipy.misc import imresize;\n",
    "\n",
    "from sklearn.cross_validation import train_test_split;\n",
    "import sys;"
   ]
  },
  {
   "cell_type": "code",
   "execution_count": 2,
   "metadata": {
    "collapsed": false
   },
   "outputs": [],
   "source": [
    "from tf_vgg import vgg16\n",
    "from tf_vgg import utils"
   ]
  },
  {
   "cell_type": "code",
   "execution_count": 3,
   "metadata": {
    "collapsed": true
   },
   "outputs": [],
   "source": [
    "def print_progess(currentProgress, maxProgress, numberDashes, message = \"\"):\n",
    "    progress = numberDashes * (currentProgress / maxProgress) + 1;\n",
    "    dashes = \"=\" * int(progress) + \"> \"\n",
    "    percentage = int(100 * currentProgress / maxProgress) + 1;\n",
    "    if percentage > 100:\n",
    "        percentage = 100;\n",
    "    sys.stdout.write(\"\\r \" + \"<\" + message + \"> \" + dashes + \"{0:.2f}\".format(percentage) + \"%\");\n",
    "    sys.stdout.flush();"
   ]
  },
  {
   "cell_type": "code",
   "execution_count": 4,
   "metadata": {
    "collapsed": false
   },
   "outputs": [
    {
     "name": "stdout",
     "output_type": "stream",
     "text": [
      "cat files: 10000 dog files: 10000\n"
     ]
    }
   ],
   "source": [
    "files_path = '/Users/ravishchawla/workspace/machinelearning/datasets/dogs_vs_cats/train/';\n",
    "\n",
    "cat_files_path = os.path.join(files_path, 'cats/cat*.jpg');\n",
    "dog_files_path = os.path.join(files_path, 'dogs/dog*.jpg');\n",
    "\n",
    "cat_files = sorted(glob(cat_files_path));\n",
    "dog_files = sorted(glob(dog_files_path));\n",
    "\n",
    "max_images_each = 2000;\n",
    "\n",
    "num_files = max_images_each + max_images_each;\n",
    "print('cat files: ' + str(len(cat_files)) + ' dog files: ' + str(len(dog_files)));\n",
    "\n",
    "size_image = 224;\n",
    "\n"
   ]
  },
  {
   "cell_type": "code",
   "execution_count": 5,
   "metadata": {
    "collapsed": false
   },
   "outputs": [
    {
     "name": "stdout",
     "output_type": "stream",
     "text": [
      " <> =========================================> 100.00%\n",
      " <> ========================================> 100.00%\n",
      "[ 0.  1.]\n"
     ]
    }
   ],
   "source": [
    "#try:\n",
    "#(all_x, all_y) = pickle.load(open('datafiles/all_x_y.dat', 'rb'));\n",
    "#print('loaded');\n",
    "#except:\n",
    "all_x = numpy.zeros((num_files, size_image, size_image, 3), dtype='float64');\n",
    "all_y = numpy.zeros(num_files);\n",
    "count = 0;\n",
    "set_count = 0;\n",
    "\n",
    "for file in cat_files:\n",
    "    if set_count > max_images_each:\n",
    "        break;\n",
    "    try:\n",
    "        img = io.imread(file);\n",
    "        new_img = imresize(img, (size_image, size_image, 3));\n",
    "        all_x[count] = numpy.array(new_img);\n",
    "        all_y[count] = 0;\n",
    "        count = count + 1;\n",
    "        set_count = set_count + 1;\n",
    "        print_progess(set_count, max_images_each, 40);\n",
    "    except f:\n",
    "        print(f);\n",
    "\n",
    "print(\"\");\n",
    "set_count = 0;\n",
    "for file in dog_files:\n",
    "    if set_count > max_images_each:\n",
    "        break;\n",
    "    try:\n",
    "        img = io.imread(file);\n",
    "        new_img = imresize(img, (size_image, size_image, 3));\n",
    "        all_x[count] = numpy.array(new_img);\n",
    "        all_y[count] = 1;\n",
    "        count = count + 1;\n",
    "        set_count = set_count + 1;\n",
    "        print_progess(set_count, max_images_each, 40);\n",
    "    except:\n",
    "        continue\n",
    "\n",
    "print(\"\");\n",
    "\n",
    "#pickle.dump((all_x, all_y), open('datafiles/all_x_y.dat', 'wb'));"
   ]
  },
  {
   "cell_type": "code",
   "execution_count": 6,
   "metadata": {
    "collapsed": false
   },
   "outputs": [
    {
     "name": "stdout",
     "output_type": "stream",
     "text": [
      "X:  (3600, 224, 224, 3)\n",
      "X_t:  (400, 224, 224, 3)\n",
      "Y:  (3600, 2)\n",
      "Y_t:  (400, 2)\n"
     ]
    }
   ],
   "source": [
    "X, X_test, Y, Y_test = train_test_split(all_x, all_y, test_size = 0.1, random_state = 42);\n",
    "\n",
    "Y = to_categorical(Y, 2);\n",
    "Y_test = to_categorical(Y_test, 2);\n",
    "\n",
    "num_epochs = 100;\n",
    "display_step = 1;\n",
    "\n",
    "print(\"X: \",X.shape);\n",
    "print(\"X_t: \",X_test.shape);\n",
    "print(\"Y: \",Y.shape);\n",
    "print(\"Y_t: \", Y_test.shape);"
   ]
  },
  {
   "cell_type": "code",
   "execution_count": null,
   "metadata": {
    "collapsed": false
   },
   "outputs": [],
   "source": []
  },
  {
   "cell_type": "code",
   "execution_count": 5,
   "metadata": {
    "collapsed": false
   },
   "outputs": [
    {
     "name": "stdout",
     "output_type": "stream",
     "text": [
      "/Users/ravishchawla/workspace/dogsvscats/tf_vgg/vgg16.npy\n",
      "npy filer loaded\n",
      "build model started\n",
      "(25088, 512)\n",
      "(512, 2)\n",
      "build model finished: 0s\n"
     ]
    }
   ],
   "source": [
    "x = tf.placeholder(\"float\", [None, 224, 224, 3]);\n",
    "y = tf.placeholder(\"float\", [None, 2]);\n",
    "\n",
    "t_vars = tf.trainable_variables();\n",
    "d_vars = [var for var in t_vars if 'fc' in var.name]\n",
    "\n",
    "vgg = vgg16.Vgg16();\n",
    "vgg.build(x);\n",
    "\n",
    "cost = tf.reduce_mean(tf.nn.softmax_cross_entropy_with_logits(vgg.prob, y));\n",
    "\n",
    "optimzer = tf.train.AdamOptimizer(learning_rate=0.0005).minimize(cost);\n",
    "\n",
    "\n",
    "#correct_prediction = tf.equal(tf.argmax(vgg.prob, 1), tf.argmax(y, 1));\n",
    "#accuracy = tf.reduce_mean(tf.case(correct_prediction, tf.float32));\n",
    "\n",
    "init = tf.initialize_all_variables();"
   ]
  },
  {
   "cell_type": "code",
   "execution_count": null,
   "metadata": {
    "collapsed": false
   },
   "outputs": [],
   "source": [
    "init = tf.initialize_all_variables();\n",
    "config = tf.ConfigProto(gpu_options=(tf.GPUOptions(per_process_gpu_memory_fraction=0.7)));\n",
    "batch_length = 500;\n",
    "\n",
    "with tf.Session() as session:\n",
    "    session.run(init);\n",
    "    for epoch in range(0, num_epochs):\n",
    "        avg_cost = 0;\n",
    "        total_batch = int(len(X) / batch_length);\n",
    "        X_batches = numpy.array_split(X, total_batch);\n",
    "        Y_batches = numpy.array_split(Y, total_batch);\n",
    "        \n",
    "        for i in range(total_batch):\n",
    "            batch_x, batch_y = X_batches[i], Y_batches[i];\n",
    "            \n",
    "            _, c = session.run([optimzer, cost], feed_dict={x : batch_x,\n",
    "                                                           y: batch_y});\n",
    "            \n",
    "            avg_cost = avg_cost + (c / total_batch);\n",
    "        \n",
    "        if epoch % display_step == 0:\n",
    "            print(epoch, num_epochs, 40, \"cost = \" + \"{:.9f}\".format(avg_cost))\n",
    "    print(\"Optimization finished\");\n",
    "    \n",
    "    correct_prediction = tf.equal(tf.argmax(vgg.prob, 1), tf.argmax(y, 1));\n",
    "    accuracy = tf.reduce_mean(tf.cast(correct_prediction, \"float\"));\n",
    "    print(\"Accuracy: \", accuracy.eval({x: X_test, y: Y_test}));\n",
    "    global result;\n",
    "    result = tf.argmax(vgg.prob, 1).eval({x: X_test, y:Y_test});"
   ]
  },
  {
   "cell_type": "code",
   "execution_count": null,
   "metadata": {
    "collapsed": false
   },
   "outputs": [],
   "source": []
  },
  {
   "cell_type": "code",
   "execution_count": null,
   "metadata": {
    "collapsed": false
   },
   "outputs": [],
   "source": []
  },
  {
   "cell_type": "code",
   "execution_count": null,
   "metadata": {
    "collapsed": true
   },
   "outputs": [],
   "source": []
  }
 ],
 "metadata": {
  "kernelspec": {
   "display_name": "Python 3",
   "language": "python",
   "name": "python3"
  },
  "language_info": {
   "codemirror_mode": {
    "name": "ipython",
    "version": 3
   },
   "file_extension": ".py",
   "mimetype": "text/x-python",
   "name": "python",
   "nbconvert_exporter": "python",
   "pygments_lexer": "ipython3",
   "version": "3.5.2"
  }
 },
 "nbformat": 4,
 "nbformat_minor": 0
}
