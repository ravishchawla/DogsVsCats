{
 "cells": [
  {
   "cell_type": "code",
   "execution_count": 1,
   "metadata": {
    "collapsed": false
   },
   "outputs": [],
   "source": [
    "import os;\n",
    "\n",
    "from glob import glob;\n",
    "\n",
    "from skimage import color, io;\n",
    "from scipy.misc import imresize;\n",
    "\n",
    "import tflearn;\n",
    "from tflearn.data_utils import shuffle, to_categorical;\n",
    "from tflearn.layers.core import input_data, dropout, fully_connected;\n",
    "from tflearn.layers.conv import conv_2d, max_pool_2d;\n",
    "from tflearn.layers.estimator import regression;\n",
    "from tflearn.data_preprocessing import ImagePreprocessing;\n",
    "from tflearn.data_augmentation import ImageAugmentation;\n",
    "from tflearn.metrics import Accuracy;\n",
    "\n",
    "from sklearn.cross_validation import train_test_split;\n",
    "\n",
    "import numpy;\n",
    "\n",
    "import pickle;"
   ]
  },
  {
   "cell_type": "code",
   "execution_count": 8,
   "metadata": {
    "collapsed": false
   },
   "outputs": [
    {
     "name": "stdout",
     "output_type": "stream",
     "text": [
      "20000\n"
     ]
    }
   ],
   "source": [
    "files_path = '/Users/ravishchawla/workspace/machinelearning/datasets/dogs_vs_cats/train/';\n",
    "\n",
    "cat_files_path = os.path.join(files_path, 'cats/cat*.jpg');\n",
    "dog_files_path = os.path.join(files_path, 'dogs/dog*.jpg');\n",
    "\n",
    "cat_files = sorted(glob(cat_files_path));\n",
    "dog_files = sorted(glob(dog_files_path));\n",
    "\n",
    "num_files = len(cat_files) + len(dog_files);\n",
    "print(num_files);\n",
    "\n",
    "size_image = 128;"
   ]
  },
  {
   "cell_type": "code",
   "execution_count": 9,
   "metadata": {
    "collapsed": false
   },
   "outputs": [],
   "source": [
    "try:\n",
    "    (all_x, all_y) = pickle.load(open('all_x_y.dat', 'rb'));\n",
    "except:\n",
    "    all_x = numpy.zeros((num_files, size_image, size_image, 3), dtype='float64');\n",
    "    all_y = numpy.zeros(num_files);\n",
    "    count = 0;\n",
    "\n",
    "    for file in cat_files:\n",
    "        try:\n",
    "            img = io.imread(file);\n",
    "            new_img = imresize(img, (size_image, size_image, 3));\n",
    "            all_x[count] = numpy.array(new_img);\n",
    "            all_y[count] = 0;\n",
    "            count = count + 1;\n",
    "        except:\n",
    "            continue\n",
    "\n",
    "    for file in dog_files:\n",
    "        try:\n",
    "            img = io.imread(file);\n",
    "            new_img = imresize(img, (size_image, size_image, 3));\n",
    "            all_x[count] = numpy.array(new_img);\n",
    "            all_y[count] = 1;\n",
    "            count = count + 1;\n",
    "        except:\n",
    "            continue\n",
    "    pickle.dump((all_x, all_y), open('all_x_y.dat', 'wb'));"
   ]
  },
  {
   "cell_type": "code",
   "execution_count": 10,
   "metadata": {
    "collapsed": true
   },
   "outputs": [],
   "source": [
    "X, X_test, Y, Y_test = train_test_split(all_x, all_y, test_size = 0.1, random_state = 42);\n",
    "\n",
    "Y = to_categorical(Y, 2);\n",
    "Y_test = to_categorical(Y_test, 2);"
   ]
  },
  {
   "cell_type": "code",
   "execution_count": 5,
   "metadata": {
    "collapsed": false
   },
   "outputs": [],
   "source": [
    "img_prep = ImagePreprocessing();\n",
    "img_prep.add_featurewise_zero_center();\n",
    "img_prep.add_featurewise_stdnorm();\n",
    "\n",
    "img_aug = ImageAugmentation();\n",
    "img_aug.add_random_flip_leftright();\n",
    "img_aug.add_random_rotation(max_angle=25.);"
   ]
  },
  {
   "cell_type": "code",
   "execution_count": 6,
   "metadata": {
    "collapsed": false
   },
   "outputs": [],
   "source": [
    "network = input_data(shape=[None, 64, 64, 3],\n",
    "data_preprocessing=img_prep,\n",
    "data_augmentation=img_aug);\n",
    "\n",
    "conv_1 = conv_2d(network, 32, 3, activation='relu', name='conv_1');\n",
    "\n",
    "network = max_pool_2d(conv_1, 2);\n",
    "\n",
    "conv_2 = conv_2d(network, 64, 3, activation='relu', name='conv_2');\n",
    "\n",
    "conv_3 = conv_2d(conv_2, 64, 3, activation='relu', name='conv_3');\n",
    "\n",
    "network = max_pool_2d(conv_3, 2);\n",
    "\n",
    "network = fully_connected(network, 512, activation='relu');\n",
    "\n",
    "network = dropout(network, 0.5);\n",
    "\n",
    "network = fully_connected(network, 2, activation='softmax');\n",
    "\n",
    "accuracy = Accuracy(name='Accuracy');\n",
    "network = regression(network, optimizer='adam',\n",
    "loss='categorical_crossentropy',\n",
    "learning_rate=0.0005, metric=accuracy);\n",
    "\n",
    "model = tflearn.DNN(network, checkpoint_path='model_cat_dog_6.tflearn', max_checkpoints=3,\n",
    "tensorboard_verbose=3, tensorboard_dir='tmp.tflearn_logs');"
   ]
  },
  {
   "cell_type": "code",
   "execution_count": 7,
   "metadata": {
    "collapsed": false
   },
   "outputs": [
    {
     "name": "stdout",
     "output_type": "stream",
     "text": [
      "Training Step: 3600  | total loss: \u001b[1m\u001b[32m0.17350\u001b[0m\u001b[0m\n",
      "| Adam | epoch: 100 | loss: 0.17350 - Accuracy: 0.9589 | val_loss: 0.43950 - val_acc: 0.8470 -- iter: 18000/18000\n",
      "Training Step: 3600  | total loss: \u001b[1m\u001b[32m0.17350\u001b[0m\u001b[0m\n",
      "| Adam | epoch: 100 | loss: 0.17350 - Accuracy: 0.9589 | val_loss: 0.43950 - val_acc: 0.8470 -- iter: 18000/18000\n",
      "--\n"
     ]
    }
   ],
   "source": [
    "model.fit(X_inputs=X, Y_targets=Y, validation_set=(X_test, Y_test), batch_size=500,\n",
    "n_epoch=100, run_id='model_cat_dog_6', show_metric=True);\n",
    "\n",
    "model.save('model_cat_dog_6_final.tflearn');"
   ]
  },
  {
   "cell_type": "code",
   "execution_count": null,
   "metadata": {
    "collapsed": true
   },
   "outputs": [],
   "source": []
  }
 ],
 "metadata": {
  "kernelspec": {
   "display_name": "Python 3",
   "language": "python",
   "name": "python3"
  },
  "language_info": {
   "codemirror_mode": {
    "name": "ipython",
    "version": 3
   },
   "file_extension": ".py",
   "mimetype": "text/x-python",
   "name": "python",
   "nbconvert_exporter": "python",
   "pygments_lexer": "ipython3",
   "version": "3.5.2"
  }
 },
 "nbformat": 4,
 "nbformat_minor": 0
}
